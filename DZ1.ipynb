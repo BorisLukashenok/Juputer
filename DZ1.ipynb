{
 "cells": [
  {
   "cell_type": "code",
   "execution_count": 86,
   "metadata": {},
   "outputs": [],
   "source": [
    "import numpy as np\n",
    "import matplotlib.pyplot as plt\n",
    "import sympy as sp"
   ]
  },
  {
   "attachments": {},
   "cell_type": "markdown",
   "metadata": {},
   "source": [
    "# Задача  \n",
    "\n",
    "> - f(x) = -12x^4*sin(cos(x)) - 18x^3+5x^2 + 10x - 30\n",
    "> - Определить корни\n",
    "> - Найти интервалы, на которых функция возрастает\n",
    "> - Найти интервалы, на которых функция убывает\n",
    "> - Построить график\n",
    "> - Вычислить вершину\n",
    "> - Определить промежутки, на котором f > 0\n",
    "> - Определить промежутки, на котором f < 0"
   ]
  },
  {
   "attachments": {},
   "cell_type": "markdown",
   "metadata": {},
   "source": [
    "## Данные для работы"
   ]
  },
  {
   "attachments": {},
   "cell_type": "markdown",
   "metadata": {},
   "source": [
    "#### Заданная функция"
   ]
  },
  {
   "cell_type": "code",
   "execution_count": 87,
   "metadata": {},
   "outputs": [],
   "source": [
    "def func(x):\n",
    "    return -12*x**4*np.sin(np.cos(x)) - 18*x**3+5*x**2 + 10*x - 30"
   ]
  },
  {
   "attachments": {},
   "cell_type": "markdown",
   "metadata": {},
   "source": [
    "#### Производные"
   ]
  },
  {
   "cell_type": "code",
   "execution_count": 88,
   "metadata": {},
   "outputs": [
    {
     "data": {
      "text/latex": [
       "$\\displaystyle 12 x^{4} \\sin{\\left(x \\right)} \\cos{\\left(\\cos{\\left(x \\right)} \\right)} - 48 x^{3} \\sin{\\left(\\cos{\\left(x \\right)} \\right)} - 54 x^{2} + 10 x + 10$"
      ],
      "text/plain": [
       "12*x**4*sin(x)*cos(cos(x)) - 48*x**3*sin(cos(x)) - 54*x**2 + 10*x + 10"
      ]
     },
     "execution_count": 88,
     "metadata": {},
     "output_type": "execute_result"
    }
   ],
   "source": [
    "xs =sp.Symbol('x',real=True)\n",
    "f = -12*xs**4*sp.sin(sp.cos(xs)) - 18*xs**3+5*xs**2 + 10*xs - 30\n",
    "d1 = sp.diff(f)\n",
    "d2 = sp.diff(d1)\n",
    "d1"
   ]
  },
  {
   "cell_type": "code",
   "execution_count": 89,
   "metadata": {},
   "outputs": [
    {
     "data": {
      "text/latex": [
       "$\\displaystyle 12 x^{4} \\sin^{2}{\\left(x \\right)} \\sin{\\left(\\cos{\\left(x \\right)} \\right)} + 12 x^{4} \\cos{\\left(x \\right)} \\cos{\\left(\\cos{\\left(x \\right)} \\right)} + 96 x^{3} \\sin{\\left(x \\right)} \\cos{\\left(\\cos{\\left(x \\right)} \\right)} - 144 x^{2} \\sin{\\left(\\cos{\\left(x \\right)} \\right)} - 108 x + 10$"
      ],
      "text/plain": [
       "12*x**4*sin(x)**2*sin(cos(x)) + 12*x**4*cos(x)*cos(cos(x)) + 96*x**3*sin(x)*cos(cos(x)) - 144*x**2*sin(cos(x)) - 108*x + 10"
      ]
     },
     "execution_count": 89,
     "metadata": {},
     "output_type": "execute_result"
    }
   ],
   "source": [
    "d2"
   ]
  },
  {
   "cell_type": "code",
   "execution_count": 90,
   "metadata": {},
   "outputs": [],
   "source": [
    "def d1func(x):\n",
    "    return 12*x**4*np.sin(x)*np.cos(np.cos(x)) - 48*x**3*np.sin(np.cos(x))-54*x**2 + 10*x + 10\n",
    "\n",
    "\n",
    "def d2func(x):\n",
    "    return 12*x**4*np.sin(x)**2*np.sin(np.cos(x)) + 12*x**4*np.cos(x)*np.cos(np.cos(x)) + 96*x**3*np.sin(x)*np.cos(np.cos(x))-144*x**2*np.sin(np.cos(x))-108*x + 10\n"
   ]
  },
  {
   "attachments": {},
   "cell_type": "markdown",
   "metadata": {},
   "source": [
    "#### Интервал"
   ]
  },
  {
   "cell_type": "code",
   "execution_count": 109,
   "metadata": {},
   "outputs": [],
   "source": [
    "lhs = -10\n",
    "rhs = 10\n",
    "N = (abs(lhs)+abs(rhs))*100\n",
    "x = np.linspace(lhs,rhs,N)\n",
    "y = [func(x_i) for x_i in x]"
   ]
  },
  {
   "attachments": {},
   "cell_type": "markdown",
   "metadata": {},
   "source": [
    "### Нахождения корня на отрезке"
   ]
  },
  {
   "cell_type": "code",
   "execution_count": 111,
   "metadata": {},
   "outputs": [],
   "source": [
    "def bisection(f, lhs, rhs, eps=1e-10):\n",
    "    mid = (lhs+rhs)/2\n",
    "    while abs(lhs-rhs) > eps:\n",
    "        mid = (lhs+rhs)/2\n",
    "        if f(lhs)*f(mid) > 0:\n",
    "            lhs = mid\n",
    "        else:\n",
    "            rhs = mid\n",
    "    return mid\n"
   ]
  },
  {
   "attachments": {},
   "cell_type": "markdown",
   "metadata": {},
   "source": [
    "## Определить корни"
   ]
  },
  {
   "cell_type": "code",
   "execution_count": 117,
   "metadata": {},
   "outputs": [
    {
     "name": "stdout",
     "output_type": "stream",
     "text": [
      "-7.650622285160797\n",
      "-5.0268659282619215\n",
      "-1.3389666393406703\n",
      "2.273056845759795\n",
      "4.383523697895429\n",
      "8.035164133362798\n"
     ]
    }
   ],
   "source": [
    "for i in range(x.size-1):\n",
    "    q =  bisection(func,x[i],x[i+1])  \n",
    "    if round(func(q),4) == 0:\n",
    "        print(q)\n",
    "    "
   ]
  }
 ],
 "metadata": {
  "kernelspec": {
   "display_name": "Python 3",
   "language": "python",
   "name": "python3"
  },
  "language_info": {
   "codemirror_mode": {
    "name": "ipython",
    "version": 3
   },
   "file_extension": ".py",
   "mimetype": "text/x-python",
   "name": "python",
   "nbconvert_exporter": "python",
   "pygments_lexer": "ipython3",
   "version": "3.11.0"
  },
  "orig_nbformat": 4,
  "vscode": {
   "interpreter": {
    "hash": "867b719568835d2758971036323f4589e1a00f73e0a167b563d81825d1a5986e"
   }
  }
 },
 "nbformat": 4,
 "nbformat_minor": 2
}
